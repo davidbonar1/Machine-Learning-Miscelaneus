{
 "cells": [
  {
   "cell_type": "markdown",
   "metadata": {},
   "source": [
    "# Ajuste de parámetros\n"
   ]
  },
  {
   "cell_type": "code",
   "execution_count": 1,
   "metadata": {},
   "outputs": [],
   "source": [
    "#Import libraries\n",
    "from sklearn.ensemble import GradientBoostingRegressor\n",
    "import matplotlib.pyplot as plt\n",
    "import numpy as np\n",
    "from sklearn.model_selection import train_test_split"
   ]
  },
  {
   "cell_type": "code",
   "execution_count": 2,
   "metadata": {},
   "outputs": [
    {
     "name": "stdout",
     "output_type": "stream",
     "text": [
      "(442, 10)\n"
     ]
    }
   ],
   "source": [
    "#Load data\n",
    "from sklearn.datasets import load_diabetes\n",
    "X,y = load_diabetes(return_X_y=True)\n",
    "print(X.shape)"
   ]
  },
  {
   "cell_type": "code",
   "execution_count": 3,
   "metadata": {},
   "outputs": [],
   "source": [
    "X_train, X_test, y_train, y_test = train_test_split(X,y,test_size=0.2)"
   ]
  },
  {
   "cell_type": "code",
   "execution_count": 4,
   "metadata": {},
   "outputs": [
    {
     "data": {
      "text/plain": [
       "GradientBoostingRegressor(alpha=0.9, ccp_alpha=0.0, criterion='friedman_mse',\n",
       "                          init=None, learning_rate=0.1, loss='ls', max_depth=1,\n",
       "                          max_features=None, max_leaf_nodes=None,\n",
       "                          min_impurity_decrease=0.0, min_impurity_split=None,\n",
       "                          min_samples_leaf=1, min_samples_split=2,\n",
       "                          min_weight_fraction_leaf=0.0, n_estimators=2000,\n",
       "                          n_iter_no_change=None, presort='deprecated',\n",
       "                          random_state=None, subsample=1.0, tol=0.0001,\n",
       "                          validation_fraction=0.1, verbose=0, warm_start=False)"
      ]
     },
     "execution_count": 4,
     "metadata": {},
     "output_type": "execute_result"
    }
   ],
   "source": [
    "n_estimators = 2000\n",
    "est = GradientBoostingRegressor(n_estimators=n_estimators, max_depth=1)\n",
    "est.fit(X_train,y_train)"
   ]
  },
  {
   "cell_type": "code",
   "execution_count": 5,
   "metadata": {},
   "outputs": [
    {
     "data": {
      "text/plain": [
       "<matplotlib.legend.Legend at 0x7fbdd33b9a50>"
      ]
     },
     "execution_count": 5,
     "metadata": {},
     "output_type": "execute_result"
    },
    {
     "data": {
      "image/png": "[encoded data removed]",
      "text/plain": [
       "<Figure size 432x288 with 1 Axes>"
      ]
     },
     "metadata": {
      "needs_background": "light"
     },
     "output_type": "display_data"
    }
   ],
   "source": [
    "test_score = np.empty(len(est.estimators_))\n",
    "for i,pred in enumerate(est.staged_predict(X_test)):\n",
    "    test_score[i] = est.loss_(y_test, pred)\n",
    "plt.plot(np.arange(n_estimators) + 1, test_score, label='Test',color='r')\n",
    "plt.plot(np.arange(n_estimators) + 1, est.train_score_, label='Train',color='b')\n",
    "plt.xlabel('n_estimators')\n",
    "plt.ylabel('Error')\n",
    "plt.legend('Best')"
   ]
  },
  {
   "cell_type": "markdown",
   "metadata": {},
   "source": [
    "Para hacer un tunning de los hiperparámetros, hay que seguir los siguientes pasos:\n",
    "\n",
    "    - Poner el número de estimadores lo más alto posible, por ej, 3000\n",
    "    - Utilizar grid_search para ajustar los hyperparámetros\n",
    "    - Por último, fijar un valor más alto incluso de n_estimators y ajustar el learning rate"
   ]
  },
  {
   "cell_type": "code",
   "execution_count": 6,
   "metadata": {},
   "outputs": [
    {
     "data": {
      "text/plain": [
       "{'learning_rate': 0.05,\n",
       " 'max_depth': 6,\n",
       " 'max_features': 0.1,\n",
       " 'min_samples_leaf': 3}"
      ]
     },
     "execution_count": 6,
     "metadata": {},
     "output_type": "execute_result"
    }
   ],
   "source": [
    "from sklearn.model_selection import GridSearchCV\n",
    "n_estimators = 3000\n",
    "param_grid = {'learning_rate':[0.1,0.05,0.02,0.01],\n",
    "             'max_depth':[4,6],\n",
    "              'min_samples_leaf':[3,5,9,17],\n",
    "             'max_features': [1.0,0.3,0.1]}\n",
    "\n",
    "est = GradientBoostingRegressor(n_estimators=n_estimators)\n",
    "gs_cv = GridSearchCV(est, param_grid).fit(X_train, y_train)\n",
    "\n",
    "gs_cv.best_params_\n"
   ]
  },
  {
   "cell_type": "code",
   "execution_count": 7,
   "metadata": {},
   "outputs": [
    {
     "data": {
      "text/plain": [
       "GradientBoostingRegressor(alpha=0.9, ccp_alpha=0.0, criterion='friedman_mse',\n",
       "                          init=None, learning_rate=0.1, loss='ls', max_depth=6,\n",
       "                          max_features=0.1, max_leaf_nodes=None,\n",
       "                          min_impurity_decrease=0.0, min_impurity_split=None,\n",
       "                          min_samples_leaf=3, min_samples_split=2,\n",
       "                          min_weight_fraction_leaf=0.0, n_estimators=3000,\n",
       "                          n_iter_no_change=None, presort='deprecated',\n",
       "                          random_state=None, subsample=1.0, tol=0.0001,\n",
       "                          validation_fraction=0.1, verbose=0, warm_start=False)"
      ]
     },
     "execution_count": 7,
     "metadata": {},
     "output_type": "execute_result"
    }
   ],
   "source": [
    "est2 = GradientBoostingRegressor(n_estimators=n_estimators, max_depth=6, min_samples_leaf=3,max_features=0.1,learning_rate=0.1)\n",
    "est2.fit(X_train,y_train)"
   ]
  },
  {
   "cell_type": "code",
   "execution_count": 9,
   "metadata": {},
   "outputs": [
    {
     "data": {
      "text/plain": [
       "<matplotlib.legend.Legend at 0x7fbdd2f9a5d0>"
      ]
     },
     "execution_count": 9,
     "metadata": {},
     "output_type": "execute_result"
    },
    {
     "data": {
      "image/png": "[encoded data removed]",
      "text/plain": [
       "<Figure size 432x288 with 1 Axes>"
      ]
     },
     "metadata": {
      "needs_background": "light"
     },
     "output_type": "display_data"
    }
   ],
   "source": [
    "test_score2 = np.empty(len(est2.estimators_))\n",
    "for i,pred in enumerate(est2.staged_predict(X_test)):\n",
    "    test_score2[i] = est2.loss_(y_test, pred)\n",
    "plt.plot(np.arange(n_estimators) + 1, test_score2, label='Test',color='r')\n",
    "plt.plot(np.arange(n_estimators) + 1, est2.train_score_, label='Train',color='b')\n",
    "plt.xlabel('n_estimators')\n",
    "plt.ylabel('Error')\n",
    "plt.legend('Best')"
   ]
  },
  {
   "cell_type": "code",
   "execution_count": null,
   "metadata": {},
   "outputs": [],
   "source": []
  }
 ],
 "metadata": {
  "kernelspec": {
   "display_name": "Python 3",
   "language": "python",
   "name": "python3"
  },
  "language_info": {
   "codemirror_mode": {
    "name": "ipython",
    "version": 3
   },
   "file_extension": ".py",
   "mimetype": "text/x-python",
   "name": "python",
   "nbconvert_exporter": "python",
   "pygments_lexer": "ipython3",
   "version": "3.7.4"
  }
 },
 "nbformat": 4,
 "nbformat_minor": 2
}
